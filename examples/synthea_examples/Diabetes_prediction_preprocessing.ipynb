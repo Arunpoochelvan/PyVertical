{
 "cells": [
  {
   "cell_type": "markdown",
   "metadata": {},
   "source": [
    "# Diabetes prediction with synthea data\n",
    "\n",
    "###### Mostly from https://github.com/IBM/example-health-machine-learning/blob/master/diabetes-prediction.ipynb"
   ]
  },
  {
   "cell_type": "markdown",
   "metadata": {},
   "source": [
    "### Import data in pandas dataframes "
   ]
  },
  {
   "cell_type": "code",
   "execution_count": 1,
   "metadata": {},
   "outputs": [],
   "source": [
    "import pandas as pd \n",
    "import numpy as np\n",
    "\n",
    "#load data into pandas dataframes\n",
    "data_dir = \"../../data/synthea/\"\n",
    "conditions_file = data_dir+\"conditions.csv\"\n",
    "medications_file = data_dir+\"medications.csv\"\n",
    "observatios_file = data_dir+\"observations.csv\"\n",
    "patients_file = data_dir+\"patients.csv\"\n",
    "\n",
    "df_cond = pd.read_csv(conditions_file)\n",
    "df_med = pd.read_csv(medications_file)\n",
    "df_obs = pd.read_csv(observatios_file)\n",
    "df_pat = pd.read_csv(patients_file)"
   ]
  },
  {
   "cell_type": "code",
   "execution_count": 2,
   "metadata": {},
   "outputs": [
    {
     "data": {
      "text/html": [
       "<div>\n",
       "<style scoped>\n",
       "    .dataframe tbody tr th:only-of-type {\n",
       "        vertical-align: middle;\n",
       "    }\n",
       "\n",
       "    .dataframe tbody tr th {\n",
       "        vertical-align: top;\n",
       "    }\n",
       "\n",
       "    .dataframe thead th {\n",
       "        text-align: right;\n",
       "    }\n",
       "</style>\n",
       "<table border=\"1\" class=\"dataframe\">\n",
       "  <thead>\n",
       "    <tr style=\"text-align: right;\">\n",
       "      <th></th>\n",
       "      <th>DATE</th>\n",
       "      <th>PATIENT</th>\n",
       "      <th>ENCOUNTER</th>\n",
       "      <th>CODE</th>\n",
       "      <th>DESCRIPTION</th>\n",
       "      <th>VALUE</th>\n",
       "      <th>UNITS</th>\n",
       "      <th>TYPE</th>\n",
       "    </tr>\n",
       "  </thead>\n",
       "  <tbody>\n",
       "    <tr>\n",
       "      <th>0</th>\n",
       "      <td>2011-03-31T02:00:17Z</td>\n",
       "      <td>7d3e489a-7789-9cd6-2a1b-711074af481b</td>\n",
       "      <td>814174f3-2e0e-1625-de48-9c40732c9149</td>\n",
       "      <td>8302-2</td>\n",
       "      <td>Body Height</td>\n",
       "      <td>167.0</td>\n",
       "      <td>cm</td>\n",
       "      <td>numeric</td>\n",
       "    </tr>\n",
       "    <tr>\n",
       "      <th>1</th>\n",
       "      <td>2011-03-31T02:00:17Z</td>\n",
       "      <td>7d3e489a-7789-9cd6-2a1b-711074af481b</td>\n",
       "      <td>814174f3-2e0e-1625-de48-9c40732c9149</td>\n",
       "      <td>72514-3</td>\n",
       "      <td>Pain severity - 0-10 verbal numeric rating [Sc...</td>\n",
       "      <td>3.0</td>\n",
       "      <td>{score}</td>\n",
       "      <td>numeric</td>\n",
       "    </tr>\n",
       "    <tr>\n",
       "      <th>2</th>\n",
       "      <td>2011-03-31T02:00:17Z</td>\n",
       "      <td>7d3e489a-7789-9cd6-2a1b-711074af481b</td>\n",
       "      <td>814174f3-2e0e-1625-de48-9c40732c9149</td>\n",
       "      <td>29463-7</td>\n",
       "      <td>Body Weight</td>\n",
       "      <td>71.1</td>\n",
       "      <td>kg</td>\n",
       "      <td>numeric</td>\n",
       "    </tr>\n",
       "    <tr>\n",
       "      <th>3</th>\n",
       "      <td>2011-03-31T02:00:17Z</td>\n",
       "      <td>7d3e489a-7789-9cd6-2a1b-711074af481b</td>\n",
       "      <td>814174f3-2e0e-1625-de48-9c40732c9149</td>\n",
       "      <td>39156-5</td>\n",
       "      <td>Body Mass Index</td>\n",
       "      <td>25.5</td>\n",
       "      <td>kg/m2</td>\n",
       "      <td>numeric</td>\n",
       "    </tr>\n",
       "    <tr>\n",
       "      <th>4</th>\n",
       "      <td>2011-03-31T02:00:17Z</td>\n",
       "      <td>7d3e489a-7789-9cd6-2a1b-711074af481b</td>\n",
       "      <td>814174f3-2e0e-1625-de48-9c40732c9149</td>\n",
       "      <td>59576-9</td>\n",
       "      <td>Body mass index (BMI) [Percentile] Per age and...</td>\n",
       "      <td>83.6</td>\n",
       "      <td>%</td>\n",
       "      <td>numeric</td>\n",
       "    </tr>\n",
       "  </tbody>\n",
       "</table>\n",
       "</div>"
      ],
      "text/plain": [
       "                   DATE                               PATIENT  \\\n",
       "0  2011-03-31T02:00:17Z  7d3e489a-7789-9cd6-2a1b-711074af481b   \n",
       "1  2011-03-31T02:00:17Z  7d3e489a-7789-9cd6-2a1b-711074af481b   \n",
       "2  2011-03-31T02:00:17Z  7d3e489a-7789-9cd6-2a1b-711074af481b   \n",
       "3  2011-03-31T02:00:17Z  7d3e489a-7789-9cd6-2a1b-711074af481b   \n",
       "4  2011-03-31T02:00:17Z  7d3e489a-7789-9cd6-2a1b-711074af481b   \n",
       "\n",
       "                              ENCOUNTER     CODE  \\\n",
       "0  814174f3-2e0e-1625-de48-9c40732c9149   8302-2   \n",
       "1  814174f3-2e0e-1625-de48-9c40732c9149  72514-3   \n",
       "2  814174f3-2e0e-1625-de48-9c40732c9149  29463-7   \n",
       "3  814174f3-2e0e-1625-de48-9c40732c9149  39156-5   \n",
       "4  814174f3-2e0e-1625-de48-9c40732c9149  59576-9   \n",
       "\n",
       "                                         DESCRIPTION  VALUE    UNITS     TYPE  \n",
       "0                                        Body Height  167.0       cm  numeric  \n",
       "1  Pain severity - 0-10 verbal numeric rating [Sc...    3.0  {score}  numeric  \n",
       "2                                        Body Weight   71.1       kg  numeric  \n",
       "3                                    Body Mass Index   25.5    kg/m2  numeric  \n",
       "4  Body mass index (BMI) [Percentile] Per age and...   83.6        %  numeric  "
      ]
     },
     "execution_count": 2,
     "metadata": {},
     "output_type": "execute_result"
    }
   ],
   "source": [
    "df_obs.head()"
   ]
  },
  {
   "cell_type": "code",
   "execution_count": 3,
   "metadata": {},
   "outputs": [
    {
     "data": {
      "text/html": [
       "<div>\n",
       "<style scoped>\n",
       "    .dataframe tbody tr th:only-of-type {\n",
       "        vertical-align: middle;\n",
       "    }\n",
       "\n",
       "    .dataframe tbody tr th {\n",
       "        vertical-align: top;\n",
       "    }\n",
       "\n",
       "    .dataframe thead th {\n",
       "        text-align: right;\n",
       "    }\n",
       "</style>\n",
       "<table border=\"1\" class=\"dataframe\">\n",
       "  <thead>\n",
       "    <tr style=\"text-align: right;\">\n",
       "      <th></th>\n",
       "      <th>Id</th>\n",
       "      <th>BIRTHDATE</th>\n",
       "      <th>DEATHDATE</th>\n",
       "      <th>SSN</th>\n",
       "      <th>DRIVERS</th>\n",
       "      <th>PASSPORT</th>\n",
       "      <th>PREFIX</th>\n",
       "      <th>FIRST</th>\n",
       "      <th>LAST</th>\n",
       "      <th>SUFFIX</th>\n",
       "      <th>...</th>\n",
       "      <th>BIRTHPLACE</th>\n",
       "      <th>ADDRESS</th>\n",
       "      <th>CITY</th>\n",
       "      <th>STATE</th>\n",
       "      <th>COUNTY</th>\n",
       "      <th>ZIP</th>\n",
       "      <th>LAT</th>\n",
       "      <th>LON</th>\n",
       "      <th>HEALTHCARE_EXPENSES</th>\n",
       "      <th>HEALTHCARE_COVERAGE</th>\n",
       "    </tr>\n",
       "  </thead>\n",
       "  <tbody>\n",
       "    <tr>\n",
       "      <th>0</th>\n",
       "      <td>7d3e489a-7789-9cd6-2a1b-711074af481b</td>\n",
       "      <td>1993-01-28</td>\n",
       "      <td>NaN</td>\n",
       "      <td>999-95-8631</td>\n",
       "      <td>S99916705</td>\n",
       "      <td>X24646789X</td>\n",
       "      <td>Mr.</td>\n",
       "      <td>Jon665</td>\n",
       "      <td>Pacocha935</td>\n",
       "      <td>NaN</td>\n",
       "      <td>...</td>\n",
       "      <td>Lawrence  Massachusetts  US</td>\n",
       "      <td>942 Fahey Overpass Apt 21</td>\n",
       "      <td>Natick</td>\n",
       "      <td>Massachusetts</td>\n",
       "      <td>Middlesex County</td>\n",
       "      <td>NaN</td>\n",
       "      <td>42.309347</td>\n",
       "      <td>-71.349633</td>\n",
       "      <td>569019.69</td>\n",
       "      <td>2293.12</td>\n",
       "    </tr>\n",
       "    <tr>\n",
       "      <th>1</th>\n",
       "      <td>a3795ec8-54f3-e99e-a4b1-4c067f3141d7</td>\n",
       "      <td>1971-12-01</td>\n",
       "      <td>NaN</td>\n",
       "      <td>999-62-4431</td>\n",
       "      <td>S99941017</td>\n",
       "      <td>X38787090X</td>\n",
       "      <td>Mr.</td>\n",
       "      <td>Dick869</td>\n",
       "      <td>Streich926</td>\n",
       "      <td>NaN</td>\n",
       "      <td>...</td>\n",
       "      <td>Swansea  Massachusetts  US</td>\n",
       "      <td>1064 Hickle View Apt 7</td>\n",
       "      <td>Chicopee</td>\n",
       "      <td>Massachusetts</td>\n",
       "      <td>Hampden County</td>\n",
       "      <td>1020.0</td>\n",
       "      <td>42.198239</td>\n",
       "      <td>-72.554752</td>\n",
       "      <td>18755.46</td>\n",
       "      <td>0.00</td>\n",
       "    </tr>\n",
       "    <tr>\n",
       "      <th>2</th>\n",
       "      <td>3829c803-1f4c-74ed-0d8f-36e502cadd0f</td>\n",
       "      <td>2005-01-07</td>\n",
       "      <td>NaN</td>\n",
       "      <td>999-21-2332</td>\n",
       "      <td>NaN</td>\n",
       "      <td>NaN</td>\n",
       "      <td>NaN</td>\n",
       "      <td>Cordell41</td>\n",
       "      <td>Eichmann909</td>\n",
       "      <td>NaN</td>\n",
       "      <td>...</td>\n",
       "      <td>Chelmsford  Massachusetts  US</td>\n",
       "      <td>560 Ritchie Way Suite 68</td>\n",
       "      <td>Swansea</td>\n",
       "      <td>Massachusetts</td>\n",
       "      <td>Bristol County</td>\n",
       "      <td>NaN</td>\n",
       "      <td>41.748125</td>\n",
       "      <td>-71.182914</td>\n",
       "      <td>361770.00</td>\n",
       "      <td>2768.96</td>\n",
       "    </tr>\n",
       "    <tr>\n",
       "      <th>3</th>\n",
       "      <td>d7acfddb-f4c2-69f4-2081-ad1fb8490448</td>\n",
       "      <td>1990-07-04</td>\n",
       "      <td>NaN</td>\n",
       "      <td>999-53-1990</td>\n",
       "      <td>S99932677</td>\n",
       "      <td>X67053099X</td>\n",
       "      <td>Mrs.</td>\n",
       "      <td>Cheri871</td>\n",
       "      <td>Oberbrunner298</td>\n",
       "      <td>NaN</td>\n",
       "      <td>...</td>\n",
       "      <td>Cambridge  Massachusetts  US</td>\n",
       "      <td>268 Hansen Loaf Apt 62</td>\n",
       "      <td>Lowell</td>\n",
       "      <td>Massachusetts</td>\n",
       "      <td>Middlesex County</td>\n",
       "      <td>1850.0</td>\n",
       "      <td>42.662520</td>\n",
       "      <td>-71.368933</td>\n",
       "      <td>703332.77</td>\n",
       "      <td>5551.19</td>\n",
       "    </tr>\n",
       "    <tr>\n",
       "      <th>4</th>\n",
       "      <td>474766f3-ee93-f5d6-84c3-db38ba803394</td>\n",
       "      <td>2012-04-03</td>\n",
       "      <td>NaN</td>\n",
       "      <td>999-57-2653</td>\n",
       "      <td>NaN</td>\n",
       "      <td>NaN</td>\n",
       "      <td>NaN</td>\n",
       "      <td>Desmond566</td>\n",
       "      <td>O'Conner199</td>\n",
       "      <td>NaN</td>\n",
       "      <td>...</td>\n",
       "      <td>Cohasset  Massachusetts  US</td>\n",
       "      <td>831 Schumm Lock Apt 62</td>\n",
       "      <td>Westborough</td>\n",
       "      <td>Massachusetts</td>\n",
       "      <td>Worcester County</td>\n",
       "      <td>NaN</td>\n",
       "      <td>42.253951</td>\n",
       "      <td>-71.563825</td>\n",
       "      <td>206450.27</td>\n",
       "      <td>2284.86</td>\n",
       "    </tr>\n",
       "  </tbody>\n",
       "</table>\n",
       "<p>5 rows × 25 columns</p>\n",
       "</div>"
      ],
      "text/plain": [
       "                                     Id   BIRTHDATE DEATHDATE          SSN  \\\n",
       "0  7d3e489a-7789-9cd6-2a1b-711074af481b  1993-01-28       NaN  999-95-8631   \n",
       "1  a3795ec8-54f3-e99e-a4b1-4c067f3141d7  1971-12-01       NaN  999-62-4431   \n",
       "2  3829c803-1f4c-74ed-0d8f-36e502cadd0f  2005-01-07       NaN  999-21-2332   \n",
       "3  d7acfddb-f4c2-69f4-2081-ad1fb8490448  1990-07-04       NaN  999-53-1990   \n",
       "4  474766f3-ee93-f5d6-84c3-db38ba803394  2012-04-03       NaN  999-57-2653   \n",
       "\n",
       "     DRIVERS    PASSPORT PREFIX       FIRST            LAST SUFFIX  ...  \\\n",
       "0  S99916705  X24646789X    Mr.      Jon665      Pacocha935    NaN  ...   \n",
       "1  S99941017  X38787090X    Mr.     Dick869      Streich926    NaN  ...   \n",
       "2        NaN         NaN    NaN   Cordell41     Eichmann909    NaN  ...   \n",
       "3  S99932677  X67053099X   Mrs.    Cheri871  Oberbrunner298    NaN  ...   \n",
       "4        NaN         NaN    NaN  Desmond566     O'Conner199    NaN  ...   \n",
       "\n",
       "                      BIRTHPLACE                    ADDRESS         CITY  \\\n",
       "0    Lawrence  Massachusetts  US  942 Fahey Overpass Apt 21       Natick   \n",
       "1     Swansea  Massachusetts  US     1064 Hickle View Apt 7     Chicopee   \n",
       "2  Chelmsford  Massachusetts  US   560 Ritchie Way Suite 68      Swansea   \n",
       "3   Cambridge  Massachusetts  US     268 Hansen Loaf Apt 62       Lowell   \n",
       "4    Cohasset  Massachusetts  US     831 Schumm Lock Apt 62  Westborough   \n",
       "\n",
       "           STATE            COUNTY     ZIP        LAT        LON  \\\n",
       "0  Massachusetts  Middlesex County     NaN  42.309347 -71.349633   \n",
       "1  Massachusetts    Hampden County  1020.0  42.198239 -72.554752   \n",
       "2  Massachusetts    Bristol County     NaN  41.748125 -71.182914   \n",
       "3  Massachusetts  Middlesex County  1850.0  42.662520 -71.368933   \n",
       "4  Massachusetts  Worcester County     NaN  42.253951 -71.563825   \n",
       "\n",
       "  HEALTHCARE_EXPENSES HEALTHCARE_COVERAGE  \n",
       "0           569019.69             2293.12  \n",
       "1            18755.46                0.00  \n",
       "2           361770.00             2768.96  \n",
       "3           703332.77             5551.19  \n",
       "4           206450.27             2284.86  \n",
       "\n",
       "[5 rows x 25 columns]"
      ]
     },
     "execution_count": 3,
     "metadata": {},
     "output_type": "execute_result"
    }
   ],
   "source": [
    "df_pat.head()"
   ]
  },
  {
   "cell_type": "markdown",
   "metadata": {},
   "source": [
    "### Feature selection"
   ]
  },
  {
   "cell_type": "markdown",
   "metadata": {},
   "source": [
    "Select the features of interests: \n",
    "\n",
    "- Systolic blood pressure readings from the observations (code 8480-6).\n",
    "- Select diastolic blood pressure readings (code 8462-4).\n",
    "- Select HDL cholesterol readings (code 2085-9).\n",
    "- Select LDL cholesterol readings (code 18262-6).\n",
    "- Select BMI (body mass index) readings (code 39156-5).\n"
   ]
  },
  {
   "cell_type": "code",
   "execution_count": 4,
   "metadata": {},
   "outputs": [],
   "source": [
    "def feature_selection_obs(df, code):\n",
    "    return df[df[\"CODE\"]==code][[\"PATIENT\", \"DATE\", \"VALUE\"]].drop_duplicates().reset_index(drop=True)\n",
    "\n",
    "#select feautures from observations\n",
    "df_systolic = feature_selection_obs(df_obs, \"8480-6\").rename(columns={\"VALUE\": \"SYSTOLIC_BP\"})\n",
    "df_diastolic = feature_selection_obs(df_obs, \"8462-4\").rename(columns={\"VALUE\": \"DIASTOLIC_BP\"})\n",
    "df_hdl = feature_selection_obs(df_obs, \"2085-9\").rename(columns={\"VALUE\": \"HDL\"})\n",
    "df_ldl = feature_selection_obs(df_obs, \"18262-6\").rename(columns={\"VALUE\": \"LDL\"})\n",
    "df_bmi = feature_selection_obs(df_obs, \"39156-5\").rename(columns={\"VALUE\": \"BMI\"})"
   ]
  },
  {
   "cell_type": "code",
   "execution_count": 5,
   "metadata": {},
   "outputs": [
    {
     "data": {
      "text/plain": [
       "(83540, 83541, 26900, 26900, 57880)"
      ]
     },
     "execution_count": 5,
     "metadata": {},
     "output_type": "execute_result"
    }
   ],
   "source": [
    "len(df_systolic), len(df_diastolic), len(df_hdl), len(df_ldl), len(df_bmi)"
   ]
  },
  {
   "cell_type": "markdown",
   "metadata": {},
   "source": [
    "Merge the dataframes (inner join for now, to avoid dealing with missing values)"
   ]
  },
  {
   "cell_type": "code",
   "execution_count": 6,
   "metadata": {},
   "outputs": [],
   "source": [
    "df1 = pd.merge(df_systolic, df_diastolic, on=[\"PATIENT\", \"DATE\"], how='inner')\n",
    "df2 = pd.merge(df1, df_hdl, on=[\"PATIENT\", \"DATE\"], how='inner')\n",
    "df3 = pd.merge(df2, df_ldl, on=[\"PATIENT\", \"DATE\"], how='inner')\n",
    "df4 = pd.merge(df3, df_bmi, on=[\"PATIENT\", \"DATE\"], how='inner')"
   ]
  },
  {
   "cell_type": "code",
   "execution_count": 7,
   "metadata": {},
   "outputs": [
    {
     "data": {
      "text/plain": [
       "21224"
      ]
     },
     "execution_count": 7,
     "metadata": {},
     "output_type": "execute_result"
    }
   ],
   "source": [
    "len(df4)"
   ]
  },
  {
   "cell_type": "code",
   "execution_count": 8,
   "metadata": {},
   "outputs": [
    {
     "data": {
      "text/html": [
       "<div>\n",
       "<style scoped>\n",
       "    .dataframe tbody tr th:only-of-type {\n",
       "        vertical-align: middle;\n",
       "    }\n",
       "\n",
       "    .dataframe tbody tr th {\n",
       "        vertical-align: top;\n",
       "    }\n",
       "\n",
       "    .dataframe thead th {\n",
       "        text-align: right;\n",
       "    }\n",
       "</style>\n",
       "<table border=\"1\" class=\"dataframe\">\n",
       "  <thead>\n",
       "    <tr style=\"text-align: right;\">\n",
       "      <th></th>\n",
       "      <th>PATIENT</th>\n",
       "      <th>DATE</th>\n",
       "      <th>SYSTOLIC_BP</th>\n",
       "      <th>DIASTOLIC_BP</th>\n",
       "      <th>HDL</th>\n",
       "      <th>LDL</th>\n",
       "      <th>BMI</th>\n",
       "    </tr>\n",
       "  </thead>\n",
       "  <tbody>\n",
       "    <tr>\n",
       "      <th>0</th>\n",
       "      <td>a3795ec8-54f3-e99e-a4b1-4c067f3141d7</td>\n",
       "      <td>2013-01-16T22:06:58Z</td>\n",
       "      <td>128.0</td>\n",
       "      <td>88.0</td>\n",
       "      <td>64.5</td>\n",
       "      <td>89.2</td>\n",
       "      <td>22.4</td>\n",
       "    </tr>\n",
       "    <tr>\n",
       "      <th>1</th>\n",
       "      <td>a3795ec8-54f3-e99e-a4b1-4c067f3141d7</td>\n",
       "      <td>2017-12-20T22:06:58Z</td>\n",
       "      <td>116.0</td>\n",
       "      <td>71.0</td>\n",
       "      <td>64.9</td>\n",
       "      <td>78.0</td>\n",
       "      <td>22.4</td>\n",
       "    </tr>\n",
       "    <tr>\n",
       "      <th>2</th>\n",
       "      <td>9bafdf36-6e60-e93e-7925-c8d15a49ea62</td>\n",
       "      <td>2012-11-25T09:32:01Z</td>\n",
       "      <td>125.0</td>\n",
       "      <td>82.0</td>\n",
       "      <td>72.9</td>\n",
       "      <td>97.3</td>\n",
       "      <td>27.6</td>\n",
       "    </tr>\n",
       "    <tr>\n",
       "      <th>3</th>\n",
       "      <td>9bafdf36-6e60-e93e-7925-c8d15a49ea62</td>\n",
       "      <td>2015-12-13T09:32:01Z</td>\n",
       "      <td>104.0</td>\n",
       "      <td>89.0</td>\n",
       "      <td>64.3</td>\n",
       "      <td>71.3</td>\n",
       "      <td>27.6</td>\n",
       "    </tr>\n",
       "    <tr>\n",
       "      <th>4</th>\n",
       "      <td>9bafdf36-6e60-e93e-7925-c8d15a49ea62</td>\n",
       "      <td>2018-12-30T09:32:01Z</td>\n",
       "      <td>121.0</td>\n",
       "      <td>77.0</td>\n",
       "      <td>61.2</td>\n",
       "      <td>77.8</td>\n",
       "      <td>27.6</td>\n",
       "    </tr>\n",
       "  </tbody>\n",
       "</table>\n",
       "</div>"
      ],
      "text/plain": [
       "                                PATIENT                  DATE SYSTOLIC_BP  \\\n",
       "0  a3795ec8-54f3-e99e-a4b1-4c067f3141d7  2013-01-16T22:06:58Z       128.0   \n",
       "1  a3795ec8-54f3-e99e-a4b1-4c067f3141d7  2017-12-20T22:06:58Z       116.0   \n",
       "2  9bafdf36-6e60-e93e-7925-c8d15a49ea62  2012-11-25T09:32:01Z       125.0   \n",
       "3  9bafdf36-6e60-e93e-7925-c8d15a49ea62  2015-12-13T09:32:01Z       104.0   \n",
       "4  9bafdf36-6e60-e93e-7925-c8d15a49ea62  2018-12-30T09:32:01Z       121.0   \n",
       "\n",
       "  DIASTOLIC_BP   HDL   LDL   BMI  \n",
       "0         88.0  64.5  89.2  22.4  \n",
       "1         71.0  64.9  78.0  22.4  \n",
       "2         82.0  72.9  97.3  27.6  \n",
       "3         89.0  64.3  71.3  27.6  \n",
       "4         77.0  61.2  77.8  27.6  "
      ]
     },
     "execution_count": 8,
     "metadata": {},
     "output_type": "execute_result"
    }
   ],
   "source": [
    "df4.head()"
   ]
  },
  {
   "cell_type": "markdown",
   "metadata": {},
   "source": [
    "Join also the age (derived from birth date in PATIENT dataset)"
   ]
  },
  {
   "cell_type": "code",
   "execution_count": 9,
   "metadata": {},
   "outputs": [],
   "source": [
    "df5 = pd.merge(df4, df_pat[[\"Id\", \"BIRTHDATE\"]].rename(columns={\"Id\": \"PATIENT\"}), on =[\"PATIENT\"], how='inner')"
   ]
  },
  {
   "cell_type": "code",
   "execution_count": 10,
   "metadata": {},
   "outputs": [],
   "source": [
    "df5[\"DATE\"] = [x.split(\"T\")[0] for x in list(df5[\"DATE\"])]"
   ]
  },
  {
   "cell_type": "code",
   "execution_count": 11,
   "metadata": {},
   "outputs": [],
   "source": [
    "from datetime import datetime\n",
    "#from https://stackoverflow.com/questions/8419564/difference-between-two-dates-in-python\n",
    "def days_between(d1, d2):\n",
    "    d1 = datetime.strptime(d1, \"%Y-%m-%d\")\n",
    "    d2 = datetime.strptime(d2, \"%Y-%m-%d\")\n",
    "    return abs((d2 - d1).days)\n",
    "\n",
    "def age_calculation(l1, l2):\n",
    "    age_list = []\n",
    "    i = 0\n",
    "    for i in range(0, len(l1)):\n",
    "        age_list.append(days_between(l1[i], l2[i]) / 365.00)\n",
    "    return age_list\n",
    "\n",
    "df5[\"AGE\"] = age_calculation(list(df5[\"DATE\"]), list(df5[\"BIRTHDATE\"]))"
   ]
  },
  {
   "cell_type": "code",
   "execution_count": null,
   "metadata": {},
   "outputs": [],
   "source": []
  },
  {
   "cell_type": "code",
   "execution_count": 12,
   "metadata": {},
   "outputs": [],
   "source": [
    "df5.drop([\"BIRTHDATE\"], axis=1, inplace=True)"
   ]
  },
  {
   "cell_type": "code",
   "execution_count": 13,
   "metadata": {},
   "outputs": [
    {
     "data": {
      "text/html": [
       "<div>\n",
       "<style scoped>\n",
       "    .dataframe tbody tr th:only-of-type {\n",
       "        vertical-align: middle;\n",
       "    }\n",
       "\n",
       "    .dataframe tbody tr th {\n",
       "        vertical-align: top;\n",
       "    }\n",
       "\n",
       "    .dataframe thead th {\n",
       "        text-align: right;\n",
       "    }\n",
       "</style>\n",
       "<table border=\"1\" class=\"dataframe\">\n",
       "  <thead>\n",
       "    <tr style=\"text-align: right;\">\n",
       "      <th></th>\n",
       "      <th>PATIENT</th>\n",
       "      <th>DATE</th>\n",
       "      <th>SYSTOLIC_BP</th>\n",
       "      <th>DIASTOLIC_BP</th>\n",
       "      <th>HDL</th>\n",
       "      <th>LDL</th>\n",
       "      <th>BMI</th>\n",
       "      <th>AGE</th>\n",
       "    </tr>\n",
       "  </thead>\n",
       "  <tbody>\n",
       "    <tr>\n",
       "      <th>0</th>\n",
       "      <td>a3795ec8-54f3-e99e-a4b1-4c067f3141d7</td>\n",
       "      <td>2013-01-16</td>\n",
       "      <td>128.0</td>\n",
       "      <td>88.0</td>\n",
       "      <td>64.5</td>\n",
       "      <td>89.2</td>\n",
       "      <td>22.4</td>\n",
       "      <td>41.156164</td>\n",
       "    </tr>\n",
       "    <tr>\n",
       "      <th>1</th>\n",
       "      <td>a3795ec8-54f3-e99e-a4b1-4c067f3141d7</td>\n",
       "      <td>2017-12-20</td>\n",
       "      <td>116.0</td>\n",
       "      <td>71.0</td>\n",
       "      <td>64.9</td>\n",
       "      <td>78.0</td>\n",
       "      <td>22.4</td>\n",
       "      <td>46.084932</td>\n",
       "    </tr>\n",
       "    <tr>\n",
       "      <th>2</th>\n",
       "      <td>9bafdf36-6e60-e93e-7925-c8d15a49ea62</td>\n",
       "      <td>2012-11-25</td>\n",
       "      <td>125.0</td>\n",
       "      <td>82.0</td>\n",
       "      <td>72.9</td>\n",
       "      <td>97.3</td>\n",
       "      <td>27.6</td>\n",
       "      <td>58.167123</td>\n",
       "    </tr>\n",
       "    <tr>\n",
       "      <th>3</th>\n",
       "      <td>9bafdf36-6e60-e93e-7925-c8d15a49ea62</td>\n",
       "      <td>2015-12-13</td>\n",
       "      <td>104.0</td>\n",
       "      <td>89.0</td>\n",
       "      <td>64.3</td>\n",
       "      <td>71.3</td>\n",
       "      <td>27.6</td>\n",
       "      <td>61.216438</td>\n",
       "    </tr>\n",
       "    <tr>\n",
       "      <th>4</th>\n",
       "      <td>9bafdf36-6e60-e93e-7925-c8d15a49ea62</td>\n",
       "      <td>2018-12-30</td>\n",
       "      <td>121.0</td>\n",
       "      <td>77.0</td>\n",
       "      <td>61.2</td>\n",
       "      <td>77.8</td>\n",
       "      <td>27.6</td>\n",
       "      <td>64.265753</td>\n",
       "    </tr>\n",
       "  </tbody>\n",
       "</table>\n",
       "</div>"
      ],
      "text/plain": [
       "                                PATIENT        DATE SYSTOLIC_BP DIASTOLIC_BP  \\\n",
       "0  a3795ec8-54f3-e99e-a4b1-4c067f3141d7  2013-01-16       128.0         88.0   \n",
       "1  a3795ec8-54f3-e99e-a4b1-4c067f3141d7  2017-12-20       116.0         71.0   \n",
       "2  9bafdf36-6e60-e93e-7925-c8d15a49ea62  2012-11-25       125.0         82.0   \n",
       "3  9bafdf36-6e60-e93e-7925-c8d15a49ea62  2015-12-13       104.0         89.0   \n",
       "4  9bafdf36-6e60-e93e-7925-c8d15a49ea62  2018-12-30       121.0         77.0   \n",
       "\n",
       "    HDL   LDL   BMI        AGE  \n",
       "0  64.5  89.2  22.4  41.156164  \n",
       "1  64.9  78.0  22.4  46.084932  \n",
       "2  72.9  97.3  27.6  58.167123  \n",
       "3  64.3  71.3  27.6  61.216438  \n",
       "4  61.2  77.8  27.6  64.265753  "
      ]
     },
     "execution_count": 13,
     "metadata": {},
     "output_type": "execute_result"
    }
   ],
   "source": [
    "df5.head()"
   ]
  },
  {
   "cell_type": "markdown",
   "metadata": {},
   "source": [
    "Now, we find the patient with diabetes diagnosis, and select the start date column (equivalent to first diagnosis), in the CONDITION dataset. "
   ]
  },
  {
   "cell_type": "code",
   "execution_count": 14,
   "metadata": {},
   "outputs": [],
   "source": [
    "df_pat_diab = df_cond[df_cond.DESCRIPTION == \"Diabetes\"][[\"PATIENT\", \"START\"]]"
   ]
  },
  {
   "cell_type": "code",
   "execution_count": 15,
   "metadata": {},
   "outputs": [],
   "source": [
    "df6 = pd.merge(df5, df_pat_diab, on=[\"PATIENT\"], how=\"left\")"
   ]
  },
  {
   "cell_type": "code",
   "execution_count": 16,
   "metadata": {},
   "outputs": [],
   "source": [
    "df6[\"HAS_DIABETES\"] = [(0 if (type(el) == float and np.isnan(el)) else 1) for el in list(df6[\"START\"])]"
   ]
  },
  {
   "cell_type": "code",
   "execution_count": 17,
   "metadata": {},
   "outputs": [
    {
     "data": {
      "text/html": [
       "<div>\n",
       "<style scoped>\n",
       "    .dataframe tbody tr th:only-of-type {\n",
       "        vertical-align: middle;\n",
       "    }\n",
       "\n",
       "    .dataframe tbody tr th {\n",
       "        vertical-align: top;\n",
       "    }\n",
       "\n",
       "    .dataframe thead th {\n",
       "        text-align: right;\n",
       "    }\n",
       "</style>\n",
       "<table border=\"1\" class=\"dataframe\">\n",
       "  <thead>\n",
       "    <tr style=\"text-align: right;\">\n",
       "      <th></th>\n",
       "      <th>PATIENT</th>\n",
       "      <th>DATE</th>\n",
       "      <th>SYSTOLIC_BP</th>\n",
       "      <th>DIASTOLIC_BP</th>\n",
       "      <th>HDL</th>\n",
       "      <th>LDL</th>\n",
       "      <th>BMI</th>\n",
       "      <th>AGE</th>\n",
       "      <th>START</th>\n",
       "      <th>HAS_DIABETES</th>\n",
       "    </tr>\n",
       "  </thead>\n",
       "  <tbody>\n",
       "    <tr>\n",
       "      <th>0</th>\n",
       "      <td>a3795ec8-54f3-e99e-a4b1-4c067f3141d7</td>\n",
       "      <td>2013-01-16</td>\n",
       "      <td>128.0</td>\n",
       "      <td>88.0</td>\n",
       "      <td>64.5</td>\n",
       "      <td>89.2</td>\n",
       "      <td>22.4</td>\n",
       "      <td>41.156164</td>\n",
       "      <td>NaN</td>\n",
       "      <td>0</td>\n",
       "    </tr>\n",
       "    <tr>\n",
       "      <th>1</th>\n",
       "      <td>a3795ec8-54f3-e99e-a4b1-4c067f3141d7</td>\n",
       "      <td>2017-12-20</td>\n",
       "      <td>116.0</td>\n",
       "      <td>71.0</td>\n",
       "      <td>64.9</td>\n",
       "      <td>78.0</td>\n",
       "      <td>22.4</td>\n",
       "      <td>46.084932</td>\n",
       "      <td>NaN</td>\n",
       "      <td>0</td>\n",
       "    </tr>\n",
       "    <tr>\n",
       "      <th>2</th>\n",
       "      <td>9bafdf36-6e60-e93e-7925-c8d15a49ea62</td>\n",
       "      <td>2012-11-25</td>\n",
       "      <td>125.0</td>\n",
       "      <td>82.0</td>\n",
       "      <td>72.9</td>\n",
       "      <td>97.3</td>\n",
       "      <td>27.6</td>\n",
       "      <td>58.167123</td>\n",
       "      <td>NaN</td>\n",
       "      <td>0</td>\n",
       "    </tr>\n",
       "    <tr>\n",
       "      <th>3</th>\n",
       "      <td>9bafdf36-6e60-e93e-7925-c8d15a49ea62</td>\n",
       "      <td>2015-12-13</td>\n",
       "      <td>104.0</td>\n",
       "      <td>89.0</td>\n",
       "      <td>64.3</td>\n",
       "      <td>71.3</td>\n",
       "      <td>27.6</td>\n",
       "      <td>61.216438</td>\n",
       "      <td>NaN</td>\n",
       "      <td>0</td>\n",
       "    </tr>\n",
       "    <tr>\n",
       "      <th>4</th>\n",
       "      <td>9bafdf36-6e60-e93e-7925-c8d15a49ea62</td>\n",
       "      <td>2018-12-30</td>\n",
       "      <td>121.0</td>\n",
       "      <td>77.0</td>\n",
       "      <td>61.2</td>\n",
       "      <td>77.8</td>\n",
       "      <td>27.6</td>\n",
       "      <td>64.265753</td>\n",
       "      <td>NaN</td>\n",
       "      <td>0</td>\n",
       "    </tr>\n",
       "  </tbody>\n",
       "</table>\n",
       "</div>"
      ],
      "text/plain": [
       "                                PATIENT        DATE SYSTOLIC_BP DIASTOLIC_BP  \\\n",
       "0  a3795ec8-54f3-e99e-a4b1-4c067f3141d7  2013-01-16       128.0         88.0   \n",
       "1  a3795ec8-54f3-e99e-a4b1-4c067f3141d7  2017-12-20       116.0         71.0   \n",
       "2  9bafdf36-6e60-e93e-7925-c8d15a49ea62  2012-11-25       125.0         82.0   \n",
       "3  9bafdf36-6e60-e93e-7925-c8d15a49ea62  2015-12-13       104.0         89.0   \n",
       "4  9bafdf36-6e60-e93e-7925-c8d15a49ea62  2018-12-30       121.0         77.0   \n",
       "\n",
       "    HDL   LDL   BMI        AGE START  HAS_DIABETES  \n",
       "0  64.5  89.2  22.4  41.156164   NaN             0  \n",
       "1  64.9  78.0  22.4  46.084932   NaN             0  \n",
       "2  72.9  97.3  27.6  58.167123   NaN             0  \n",
       "3  64.3  71.3  27.6  61.216438   NaN             0  \n",
       "4  61.2  77.8  27.6  64.265753   NaN             0  "
      ]
     },
     "execution_count": 17,
     "metadata": {},
     "output_type": "execute_result"
    }
   ],
   "source": [
    "df6.head()"
   ]
  },
  {
   "cell_type": "markdown",
   "metadata": {},
   "source": [
    "### Filter data\n",
    "For this example, we filter the positive observations taken before diagnosis and then we reduce the observations to a single one per patient. In the future, it might be valuable keeping the time and try to predict diabetes before it occurs (e.g. with RNN). In this case, however, we need to check better the generative model underlying synthea, as in the notebook we are trying to reproduce here: \"The impact of the condition (diabetes) is not reflected in the observations until the patient is diagnosed with the condition in a wellness visit\". However, there is a condition called \"Prediabetes\" which we could take into account. "
   ]
  },
  {
   "cell_type": "code",
   "execution_count": 18,
   "metadata": {},
   "outputs": [],
   "source": [
    "def date_to_int(string_date):\n",
    "    #a date can also be nan (float type)\n",
    "    return int(string_date.replace(\"-\", \"\")) if type(string_date) == str else 0\n",
    "def col_date_to_int(col_date):\n",
    "    return list(map(date_to_int, col_date))\n",
    "\n",
    "df6[\"temp_date\"] = col_date_to_int(df6[\"DATE\"])\n",
    "df6[\"temp_start\"] = col_date_to_int(df6[\"START\"])"
   ]
  },
  {
   "cell_type": "code",
   "execution_count": 19,
   "metadata": {},
   "outputs": [
    {
     "data": {
      "text/plain": [
       "57"
      ]
     },
     "execution_count": 19,
     "metadata": {},
     "output_type": "execute_result"
    }
   ],
   "source": [
    "df_with_diab = df6[df6.HAS_DIABETES == 1]\n",
    "df_to_discard = df_with_diab[df_with_diab[\"temp_start\"] > df_with_diab[\"temp_date\"]]\n",
    "len(df_to_discard)"
   ]
  },
  {
   "cell_type": "code",
   "execution_count": 20,
   "metadata": {},
   "outputs": [],
   "source": [
    "df7 = df6.drop(index = df_to_discard.index, inplace=False).reset_index().drop(columns=[\"index\"])"
   ]
  },
  {
   "cell_type": "markdown",
   "metadata": {},
   "source": [
    "Let's now reduce the observations to a single observation per patient (the earliest available observation)"
   ]
  },
  {
   "cell_type": "code",
   "execution_count": 21,
   "metadata": {},
   "outputs": [
    {
     "data": {
      "text/html": [
       "<div>\n",
       "<style scoped>\n",
       "    .dataframe tbody tr th:only-of-type {\n",
       "        vertical-align: middle;\n",
       "    }\n",
       "\n",
       "    .dataframe tbody tr th {\n",
       "        vertical-align: top;\n",
       "    }\n",
       "\n",
       "    .dataframe thead th {\n",
       "        text-align: right;\n",
       "    }\n",
       "</style>\n",
       "<table border=\"1\" class=\"dataframe\">\n",
       "  <thead>\n",
       "    <tr style=\"text-align: right;\">\n",
       "      <th></th>\n",
       "      <th>PATIENT</th>\n",
       "      <th>SYSTOLIC_BP</th>\n",
       "      <th>DIASTOLIC_BP</th>\n",
       "      <th>HDL</th>\n",
       "      <th>LDL</th>\n",
       "      <th>BMI</th>\n",
       "      <th>AGE</th>\n",
       "      <th>HAS_DIABETES</th>\n",
       "    </tr>\n",
       "  </thead>\n",
       "  <tbody>\n",
       "    <tr>\n",
       "      <th>0</th>\n",
       "      <td>28de1ba3-efdc-1797-5a32-d4f8d3be0936</td>\n",
       "      <td>109.0</td>\n",
       "      <td>78.0</td>\n",
       "      <td>75.1</td>\n",
       "      <td>74.4</td>\n",
       "      <td>25.2</td>\n",
       "      <td>30.356164</td>\n",
       "      <td>0</td>\n",
       "    </tr>\n",
       "    <tr>\n",
       "      <th>1</th>\n",
       "      <td>6686010d-3d7b-d69d-d2cd-8bbe4b3e6041</td>\n",
       "      <td>160.0</td>\n",
       "      <td>104.0</td>\n",
       "      <td>62.1</td>\n",
       "      <td>82.6</td>\n",
       "      <td>28.2</td>\n",
       "      <td>30.356164</td>\n",
       "      <td>0</td>\n",
       "    </tr>\n",
       "    <tr>\n",
       "      <th>2</th>\n",
       "      <td>42217d99-02e1-2cc8-83ed-5101c246a559</td>\n",
       "      <td>112.0</td>\n",
       "      <td>84.0</td>\n",
       "      <td>69.2</td>\n",
       "      <td>94.6</td>\n",
       "      <td>30.1</td>\n",
       "      <td>31.221918</td>\n",
       "      <td>0</td>\n",
       "    </tr>\n",
       "    <tr>\n",
       "      <th>3</th>\n",
       "      <td>c429d985-225b-f380-4462-57852cf61186</td>\n",
       "      <td>121.0</td>\n",
       "      <td>74.0</td>\n",
       "      <td>63.1</td>\n",
       "      <td>109.0</td>\n",
       "      <td>29.6</td>\n",
       "      <td>31.221918</td>\n",
       "      <td>0</td>\n",
       "    </tr>\n",
       "    <tr>\n",
       "      <th>4</th>\n",
       "      <td>06365dfa-6203-5413-2c6d-553a4a988c1f</td>\n",
       "      <td>117.0</td>\n",
       "      <td>82.0</td>\n",
       "      <td>64.6</td>\n",
       "      <td>94.1</td>\n",
       "      <td>34.3</td>\n",
       "      <td>34.232877</td>\n",
       "      <td>0</td>\n",
       "    </tr>\n",
       "    <tr>\n",
       "      <th>...</th>\n",
       "      <td>...</td>\n",
       "      <td>...</td>\n",
       "      <td>...</td>\n",
       "      <td>...</td>\n",
       "      <td>...</td>\n",
       "      <td>...</td>\n",
       "      <td>...</td>\n",
       "      <td>...</td>\n",
       "    </tr>\n",
       "    <tr>\n",
       "      <th>3821</th>\n",
       "      <td>391d2527-19ca-8b83-2cd0-5c484946b2b7</td>\n",
       "      <td>156.0</td>\n",
       "      <td>95.0</td>\n",
       "      <td>76.5</td>\n",
       "      <td>76.4</td>\n",
       "      <td>34.1</td>\n",
       "      <td>30.358904</td>\n",
       "      <td>0</td>\n",
       "    </tr>\n",
       "    <tr>\n",
       "      <th>3822</th>\n",
       "      <td>964603c6-e5bd-6d86-5b21-34056a4a651a</td>\n",
       "      <td>124.0</td>\n",
       "      <td>78.0</td>\n",
       "      <td>68.0</td>\n",
       "      <td>102.1</td>\n",
       "      <td>25.3</td>\n",
       "      <td>31.221918</td>\n",
       "      <td>0</td>\n",
       "    </tr>\n",
       "    <tr>\n",
       "      <th>3823</th>\n",
       "      <td>3d44d71e-2241-29c2-6aed-7f7f4d65d8d4</td>\n",
       "      <td>123.0</td>\n",
       "      <td>84.0</td>\n",
       "      <td>75.0</td>\n",
       "      <td>66.5</td>\n",
       "      <td>30.0</td>\n",
       "      <td>30.358904</td>\n",
       "      <td>0</td>\n",
       "    </tr>\n",
       "    <tr>\n",
       "      <th>3824</th>\n",
       "      <td>bbcfa21f-caa2-4540-d2b6-929f48ae27c2</td>\n",
       "      <td>130.0</td>\n",
       "      <td>71.0</td>\n",
       "      <td>69.1</td>\n",
       "      <td>99.3</td>\n",
       "      <td>29.3</td>\n",
       "      <td>31.221918</td>\n",
       "      <td>0</td>\n",
       "    </tr>\n",
       "    <tr>\n",
       "      <th>3825</th>\n",
       "      <td>d9f4d286-8db4-201d-c1ed-80909f6b3927</td>\n",
       "      <td>121.0</td>\n",
       "      <td>83.0</td>\n",
       "      <td>68.1</td>\n",
       "      <td>104.4</td>\n",
       "      <td>22.7</td>\n",
       "      <td>30.358904</td>\n",
       "      <td>0</td>\n",
       "    </tr>\n",
       "  </tbody>\n",
       "</table>\n",
       "<p>3826 rows × 8 columns</p>\n",
       "</div>"
      ],
      "text/plain": [
       "                                   PATIENT SYSTOLIC_BP DIASTOLIC_BP   HDL  \\\n",
       "0     28de1ba3-efdc-1797-5a32-d4f8d3be0936       109.0         78.0  75.1   \n",
       "1     6686010d-3d7b-d69d-d2cd-8bbe4b3e6041       160.0        104.0  62.1   \n",
       "2     42217d99-02e1-2cc8-83ed-5101c246a559       112.0         84.0  69.2   \n",
       "3     c429d985-225b-f380-4462-57852cf61186       121.0         74.0  63.1   \n",
       "4     06365dfa-6203-5413-2c6d-553a4a988c1f       117.0         82.0  64.6   \n",
       "...                                    ...         ...          ...   ...   \n",
       "3821  391d2527-19ca-8b83-2cd0-5c484946b2b7       156.0         95.0  76.5   \n",
       "3822  964603c6-e5bd-6d86-5b21-34056a4a651a       124.0         78.0  68.0   \n",
       "3823  3d44d71e-2241-29c2-6aed-7f7f4d65d8d4       123.0         84.0  75.0   \n",
       "3824  bbcfa21f-caa2-4540-d2b6-929f48ae27c2       130.0         71.0  69.1   \n",
       "3825  d9f4d286-8db4-201d-c1ed-80909f6b3927       121.0         83.0  68.1   \n",
       "\n",
       "        LDL   BMI        AGE  HAS_DIABETES  \n",
       "0      74.4  25.2  30.356164             0  \n",
       "1      82.6  28.2  30.356164             0  \n",
       "2      94.6  30.1  31.221918             0  \n",
       "3     109.0  29.6  31.221918             0  \n",
       "4      94.1  34.3  34.232877             0  \n",
       "...     ...   ...        ...           ...  \n",
       "3821   76.4  34.1  30.358904             0  \n",
       "3822  102.1  25.3  31.221918             0  \n",
       "3823   66.5  30.0  30.358904             0  \n",
       "3824   99.3  29.3  31.221918             0  \n",
       "3825  104.4  22.7  30.358904             0  \n",
       "\n",
       "[3826 rows x 8 columns]"
      ]
     },
     "execution_count": 21,
     "metadata": {},
     "output_type": "execute_result"
    }
   ],
   "source": [
    "df7.sort_values(by=[\"temp_date\"], axis=0, inplace=True)\n",
    "df7.reset_index(inplace=True)\n",
    "df7 = df7.drop(columns=\"index\")\n",
    "df7[\"OBS_INDEX\"] = df7.groupby([\"PATIENT\"]).cumcount()+1\n",
    "df8 = df7[df7.OBS_INDEX == 1]\n",
    "df8.reset_index(inplace=True)\n",
    "df8 = df8.drop(columns=[\"index\", \"temp_date\", \"temp_start\", \"OBS_INDEX\", \"START\", \"DATE\"])\n",
    "df8"
   ]
  },
  {
   "cell_type": "code",
   "execution_count": 22,
   "metadata": {},
   "outputs": [
    {
     "data": {
      "text/plain": [
       "(3480, 346)"
      ]
     },
     "execution_count": 22,
     "metadata": {},
     "output_type": "execute_result"
    }
   ],
   "source": [
    "list(df8[\"HAS_DIABETES\"]).count(0), list(df8[\"HAS_DIABETES\"]).count(1)"
   ]
  },
  {
   "cell_type": "code",
   "execution_count": 23,
   "metadata": {},
   "outputs": [],
   "source": [
    "#prepare dataset for pytorch\n",
    "df9 = df8.drop(columns=\"PATIENT\")"
   ]
  },
  {
   "cell_type": "code",
   "execution_count": 24,
   "metadata": {},
   "outputs": [
    {
     "data": {
      "text/plain": [
       "['SYSTOLIC_BP', 'DIASTOLIC_BP', 'HDL', 'LDL', 'BMI', 'AGE', 'HAS_DIABETES']"
      ]
     },
     "execution_count": 24,
     "metadata": {},
     "output_type": "execute_result"
    }
   ],
   "source": [
    "list(df9.columns)"
   ]
  },
  {
   "cell_type": "markdown",
   "metadata": {},
   "source": [
    "### Divide into training and test set, and define train and test dataloader"
   ]
  },
  {
   "cell_type": "code",
   "execution_count": 42,
   "metadata": {},
   "outputs": [],
   "source": [
    "df_input = df9.drop(columns=\"HAS_DIABETES\")\n",
    "df_y = df9[\"HAS_DIABETES\"]\n",
    "\n",
    "for col in list(df_input.columns):\n",
    "    df_input[col] = list(map(float, df_input[col]))\n",
    "    \n",
    "train_ratio = 0.7\n",
    "\n",
    "msk = np.random.rand(len(df9)) < train_ratio\n",
    "train_set = df_input[msk].values\n",
    "train_labels = df_y[msk].values\n",
    "test_set = df_input[~msk].values\n",
    "test_labels = df_y[~msk].values"
   ]
  },
  {
   "cell_type": "code",
   "execution_count": 121,
   "metadata": {},
   "outputs": [],
   "source": [
    "import torch \n",
    "\n",
    "train_target = torch.tensor(train_labels.astype(np.float32))\n",
    "train = torch.tensor(train_set.astype(np.float32)) \n",
    "\n",
    "test_target = torch.tensor(test_labels.astype(np.float32))\n",
    "test = torch.tensor(test_set.astype(np.float32)) \n",
    "\n",
    "bs = 10\n",
    "train_tensor = torch.utils.data.TensorDataset(train, train_target) \n",
    "train_loader = torch.utils.data.DataLoader(dataset = train_tensor, batch_size = bs, shuffle = True)\n",
    "\n",
    "test_tensor = torch.utils.data.TensorDataset(test, test_target) \n",
    "test_loader = torch.utils.data.DataLoader(dataset = test_tensor, batch_size = bs, shuffle = False)"
   ]
  },
  {
   "cell_type": "markdown",
   "metadata": {},
   "source": [
    "### Simple logistic regression model"
   ]
  },
  {
   "cell_type": "code",
   "execution_count": 122,
   "metadata": {},
   "outputs": [],
   "source": [
    "class LogisticRegression(torch.nn.Module):\n",
    "    def __init__(self, input_dim, output_dim):\n",
    "        super(LogisticRegression, self).__init__()\n",
    "        self.linear = torch.nn.Linear(input_dim, output_dim)\n",
    "\n",
    "    def forward(self, x):\n",
    "        outputs = self.linear(x)\n",
    "        return outputs"
   ]
  },
  {
   "cell_type": "code",
   "execution_count": 123,
   "metadata": {},
   "outputs": [],
   "source": [
    "epochs = 10\n",
    "input_dim = 6\n",
    "output_dim = 2\n",
    "lr_rate = 0.001\n",
    "\n",
    "model = LogisticRegression(input_dim, output_dim)\n",
    "criterion = torch.nn.CrossEntropyLoss()\n",
    "\n",
    "optimizer = torch.optim.SGD(model.parameters(), lr=lr_rate)"
   ]
  },
  {
   "cell_type": "markdown",
   "metadata": {},
   "source": [
    "### Training loop and evaluation"
   ]
  },
  {
   "cell_type": "code",
   "execution_count": 177,
   "metadata": {},
   "outputs": [
    {
     "name": "stdout",
     "output_type": "stream",
     "text": [
      "Epoch: 0. Iteration: 200. Loss: 7.707485929131508e-05. Accuracy: 90.78590785907859.\n",
      "Epoch: 1. Iteration: 400. Loss: 0.0004317985731177032. Accuracy: 94.76061427280939.\n",
      "Epoch: 2. Iteration: 600. Loss: 0.0. Accuracy: 90.60523938572719.\n",
      "Epoch: 2. Iteration: 800. Loss: 1.2545890808105469. Accuracy: 45.347786811201445.\n",
      "Epoch: 3. Iteration: 1000. Loss: 0.07240111380815506. Accuracy: 94.03794037940379.\n",
      "Epoch: 4. Iteration: 1200. Loss: 0.0018771663308143616. Accuracy: 93.13459801264679.\n",
      "Epoch: 5. Iteration: 1400. Loss: 1.3109453916549683. Accuracy: 79.67479674796748.\n",
      "Epoch: 5. Iteration: 1600. Loss: 1.7740905284881592. Accuracy: 92.6829268292683.\n",
      "Epoch: 6. Iteration: 1800. Loss: 0.0184627752751112. Accuracy: 94.2186088527552.\n",
      "Epoch: 7. Iteration: 2000. Loss: 0.6591505408287048. Accuracy: 75.51942186088527.\n",
      "Epoch: 8. Iteration: 2200. Loss: 1.10377836227417. Accuracy: 90.60523938572719.\n",
      "Epoch: 8. Iteration: 2400. Loss: 0.2253536880016327. Accuracy: 92.773261065944.\n",
      "Epoch: 9. Iteration: 2600. Loss: 3.0842161178588867. Accuracy: 90.51490514905149.\n"
     ]
    }
   ],
   "source": [
    "from torch.autograd import Variable\n",
    "iter = 0\n",
    "loss_v = []\n",
    "for epoch in range(int(epochs)):\n",
    "    for i, (point, labels) in enumerate(train_loader):\n",
    "        points = Variable(point.view(-1, 6))\n",
    "        labels = Variable(labels.type(torch.LongTensor))\n",
    "        \n",
    "        optimizer.zero_grad()\n",
    "        outputs = model(points)\n",
    "        loss = criterion(outputs, labels)\n",
    "        loss_v.append(loss.detach().numpy())\n",
    "        loss.backward()\n",
    "        optimizer.step()\n",
    "        \n",
    "        iter+=1\n",
    "        if iter%200==0:\n",
    "            # calculate Accuracy\n",
    "            correct = 0\n",
    "            total = 0\n",
    "            for points, labels in test_loader:\n",
    "                points = Variable(points.view(-1, 6))\n",
    "                outputs = model(points)\n",
    "                _, predicted = torch.max(outputs.data, 1)\n",
    "                total+= labels.size(0)\n",
    "                correct+= (predicted == labels).sum()\n",
    "            accuracy = 100 * float(correct)/float(total)\n",
    "            print(\"Epoch: {}. Iteration: {}. Loss: {}. Accuracy: {}.\".format(epoch, iter, loss.item(), accuracy))"
   ]
  },
  {
   "cell_type": "code",
   "execution_count": 141,
   "metadata": {},
   "outputs": [],
   "source": [
    "#final test\n",
    "labels = test_target\n",
    "outputs = model(test)\n",
    "_, predicted = torch.max(outputs.data,1)\n",
    "total = labels.size(0)\n",
    "correct = (predicted == labels).sum()\n",
    "accuracy = float(correct)/float(total)"
   ]
  },
  {
   "cell_type": "code",
   "execution_count": 166,
   "metadata": {},
   "outputs": [],
   "source": [
    "from sklearn.metrics import confusion_matrix\n",
    "import matplotlib.pyplot as plt\n",
    "import seaborn as sn\n",
    "\n",
    "cm = confusion_matrix(labels, predicted, labels=[0,1])\n",
    "tn, fp, fn, tp = cm.ravel()"
   ]
  },
  {
   "cell_type": "code",
   "execution_count": 170,
   "metadata": {},
   "outputs": [
    {
     "data": {
      "text/plain": [
       "array([[1002,    0],\n",
       "       [ 105,    0]])"
      ]
     },
     "execution_count": 170,
     "metadata": {},
     "output_type": "execute_result"
    }
   ],
   "source": [
    "cm"
   ]
  },
  {
   "cell_type": "code",
   "execution_count": 171,
   "metadata": {},
   "outputs": [
    {
     "data": {
      "text/plain": [
       "(1002, 0, 105, 0)"
      ]
     },
     "execution_count": 171,
     "metadata": {},
     "output_type": "execute_result"
    }
   ],
   "source": [
    "tn, fp, fn, tp"
   ]
  },
  {
   "cell_type": "code",
   "execution_count": null,
   "metadata": {},
   "outputs": [],
   "source": []
  },
  {
   "cell_type": "code",
   "execution_count": null,
   "metadata": {},
   "outputs": [],
   "source": []
  },
  {
   "cell_type": "code",
   "execution_count": null,
   "metadata": {},
   "outputs": [],
   "source": []
  },
  {
   "cell_type": "code",
   "execution_count": null,
   "metadata": {},
   "outputs": [],
   "source": []
  },
  {
   "cell_type": "code",
   "execution_count": null,
   "metadata": {},
   "outputs": [],
   "source": []
  },
  {
   "cell_type": "code",
   "execution_count": null,
   "metadata": {},
   "outputs": [],
   "source": []
  },
  {
   "cell_type": "code",
   "execution_count": null,
   "metadata": {},
   "outputs": [],
   "source": []
  },
  {
   "cell_type": "code",
   "execution_count": null,
   "metadata": {},
   "outputs": [],
   "source": []
  },
  {
   "cell_type": "code",
   "execution_count": null,
   "metadata": {},
   "outputs": [],
   "source": []
  },
  {
   "cell_type": "code",
   "execution_count": null,
   "metadata": {},
   "outputs": [],
   "source": []
  },
  {
   "cell_type": "code",
   "execution_count": null,
   "metadata": {},
   "outputs": [],
   "source": []
  },
  {
   "cell_type": "code",
   "execution_count": null,
   "metadata": {},
   "outputs": [],
   "source": []
  },
  {
   "cell_type": "code",
   "execution_count": null,
   "metadata": {},
   "outputs": [],
   "source": []
  },
  {
   "cell_type": "code",
   "execution_count": null,
   "metadata": {},
   "outputs": [],
   "source": []
  },
  {
   "cell_type": "code",
   "execution_count": null,
   "metadata": {},
   "outputs": [],
   "source": []
  },
  {
   "cell_type": "code",
   "execution_count": null,
   "metadata": {},
   "outputs": [],
   "source": []
  },
  {
   "cell_type": "code",
   "execution_count": null,
   "metadata": {},
   "outputs": [],
   "source": []
  },
  {
   "cell_type": "code",
   "execution_count": null,
   "metadata": {},
   "outputs": [],
   "source": []
  }
 ],
 "metadata": {
  "kernelspec": {
   "display_name": "Python 3",
   "language": "python",
   "name": "python3"
  },
  "language_info": {
   "codemirror_mode": {
    "name": "ipython",
    "version": 3
   },
   "file_extension": ".py",
   "mimetype": "text/x-python",
   "name": "python",
   "nbconvert_exporter": "python",
   "pygments_lexer": "ipython3",
   "version": "3.7.6"
  }
 },
 "nbformat": 4,
 "nbformat_minor": 4
}
