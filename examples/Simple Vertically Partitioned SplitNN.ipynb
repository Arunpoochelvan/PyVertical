{
 "cells": [
  {
   "cell_type": "code",
   "execution_count": 1,
   "metadata": {},
   "outputs": [],
   "source": [
    "epochs = 5"
   ]
  },
  {
   "cell_type": "markdown",
   "metadata": {},
   "source": [
    "# Example - Simple Vertically Partitioned Split Neural Network\n",
    "\n",
    "- <b>Alice</b>\n",
    "    - Has model Segment 1\n",
    "    - Has the handwritten Images\n",
    "- <b>Bob</b>\n",
    "    - Has model Segment 2\n",
    "    - Has the image Labels\n",
    "    \n",
    "Based on [SplitNN - Tutorial 3](https://github.com/OpenMined/PySyft/blob/master/examples/tutorials/advanced/split_neural_network/Tutorial%203%20-%20Folded%20Split%20Neural%20Network.ipynb) from Adam J Hall - Twitter: [@AJH4LL](https://twitter.com/AJH4LL) · GitHub:  [@H4LL](https://github.com/H4LL)\n",
    "\n",
    "Authors:\n",
    "- Pavlos Papadopoulos · GitHub:  [@pavlos-p](https://github.com/pavlos-p)\n",
    "- Tom Titcombe · GitHub:  [@TTitcombe](https://github.com/TTitcombe)\n",
    "\n"
   ]
  },
  {
   "cell_type": "code",
   "execution_count": 2,
   "metadata": {},
   "outputs": [],
   "source": [
    "class SplitNN:\n",
    "    def __init__(self, models, optimizers):\n",
    "        self.models = models\n",
    "        self.optimizers = optimizers\n",
    "\n",
    "        self.data = []\n",
    "        self.remote_tensors = []\n",
    "\n",
    "    def forward(self, x):\n",
    "        data = []\n",
    "        remote_tensors = []\n",
    "\n",
    "        data.append(models[0](x))\n",
    "\n",
    "        if data[-1].location == models[1].location:\n",
    "            remote_tensors.append(data[-1].detach().requires_grad_())\n",
    "        else:\n",
    "            remote_tensors.append(\n",
    "                data[-1].detach().move(models[1].location).requires_grad_()\n",
    "            )\n",
    "\n",
    "        i = 1\n",
    "        while i < (len(models) - 1):\n",
    "            data.append(models[i](remote_tensors[-1]))\n",
    "\n",
    "            if data[-1].location == models[i + 1].location:\n",
    "                remote_tensors.append(data[-1].detach().requires_grad_())\n",
    "            else:\n",
    "                remote_tensors.append(\n",
    "                    data[-1].detach().move(models[i + 1].location).requires_grad_()\n",
    "                )\n",
    "\n",
    "            i += 1\n",
    "\n",
    "        data.append(models[i](remote_tensors[-1]))\n",
    "\n",
    "        self.data = data\n",
    "        self.remote_tensors = remote_tensors\n",
    "\n",
    "        return data[-1]\n",
    "\n",
    "    def backward(self):\n",
    "        data = self.data\n",
    "        remote_tensors = self.remote_tensors\n",
    "\n",
    "        i = len(models) - 2\n",
    "        while i > -1:\n",
    "            if remote_tensors[i].location == data[i].location:\n",
    "                grads = remote_tensors[i].grad.copy()\n",
    "            else:\n",
    "                grads = remote_tensors[i].grad.copy().move(data[i].location)\n",
    "\n",
    "            data[i].backward(grads)\n",
    "            i -= 1\n",
    "\n",
    "    def zero_grads(self):\n",
    "        for opt in self.optimizers:\n",
    "            opt.zero_grad()\n",
    "\n",
    "    def step(self):\n",
    "        for opt in self.optimizers:\n",
    "            opt.step()"
   ]
  },
  {
   "cell_type": "code",
   "execution_count": 3,
   "metadata": {},
   "outputs": [
    {
     "name": "stderr",
     "output_type": "stream",
     "text": [
      "Falling back to insecure randomness since the required custom op could not be found for the installed version of TensorFlow. Fix this by compiling custom ops. Missing file was '/home/pavlito/miniconda3/envs/pyvertical-dev/lib/python3.7/site-packages/tf_encrypted/operations/secure_random/secure_random_module_tf_1.15.3.so'\n"
     ]
    }
   ],
   "source": [
    "import sys\n",
    "sys.path.append('../')\n",
    "\n",
    "import torch\n",
    "from torchvision import datasets, transforms\n",
    "from torch import nn, optim\n",
    "from torchvision.datasets import MNIST\n",
    "from torchvision.transforms import ToTensor\n",
    "\n",
    "import syft as sy\n",
    "\n",
    "from src.dataloader import VerticalDataLoader\n",
    "from src.dataset import add_ids\n",
    "from src.psi.util import compute_psi\n",
    "\n",
    "hook = sy.TorchHook(torch)"
   ]
  },
  {
   "cell_type": "code",
   "execution_count": 34,
   "metadata": {},
   "outputs": [],
   "source": [
    "# Create dataset\n",
    "data = add_ids(MNIST)(\".\", download=True, transform=ToTensor())  # add_ids adds unique IDs to data points\n",
    "\n",
    "# Batch data\n",
    "dataloader = VerticalDataLoader(data, batch_size=128) # partition_dataset uses by default \"remove_data=True, keep_order=False\""
   ]
  },
  {
   "cell_type": "code",
   "execution_count": 43,
   "metadata": {
    "scrolled": true
   },
   "outputs": [
    {
     "name": "stdout",
     "output_type": "stream",
     "text": [
      "c1e2ef84-4b0f-4985-ae38-d16d10646588\n",
      "c1e2ef84-4b0f-4985-ae38-d16d10646588\n",
      "3\n"
     ]
    },
    {
     "data": {
      "text/plain": [
       "<matplotlib.image.AxesImage at 0x7fa750435250>"
      ]
     },
     "execution_count": 43,
     "metadata": {},
     "output_type": "execute_result"
    },
    {
     "data": {
      "image/png": "[encoded data removed]",
      "text/plain": [
       "<Figure size 432x288 with 1 Axes>"
      ]
     },
     "metadata": {
      "needs_background": "light"
     },
     "output_type": "display_data"
    }
   ],
   "source": [
    "print(dataloader.dataloader1.dataset.ids[6])\n",
    "print(dataloader.dataloader2.dataset.ids[6])\n",
    "print(dataloader.dataloader2.dataset[6][0])\n",
    "plt.imshow(dataloader.dataloader1.dataset.data[6].numpy().squeeze(), cmap='gray_r')"
   ]
  },
  {
   "cell_type": "code",
   "execution_count": 37,
   "metadata": {
    "scrolled": false
   },
   "outputs": [
    {
     "name": "stdout",
     "output_type": "stream",
     "text": [
      "----------------------------------------\n",
      "Id 1 of the DataLoader 1:  a6e0ebf1-1687-41d7-a64d-778ed678f532\n",
      "Id 1 of the DataLoader 2:  a6e0ebf1-1687-41d7-a64d-778ed678f532\n",
      "----------------------------------------\n",
      "Id 2 of the DataLoader 1:  643b7ca1-d06c-43be-922f-42d3559f2ab2\n",
      "Id 2 of the DataLoader 2:  3daa20a8-a5a3-48eb-b73c-d8b31c9cf5ee\n",
      "----------------------------------------\n",
      "Id 3 of the DataLoader 1:  98330029-1072-47c3-ab85-6c48c0c36ede\n",
      "Id 3 of the DataLoader 2:  643b7ca1-d06c-43be-922f-42d3559f2ab2\n",
      "----------------------------------------\n",
      "Id 4 of the DataLoader 1:  30eaeace-a4a4-4c6c-bcba-a358cf9d2646\n",
      "Id 4 of the DataLoader 2:  98330029-1072-47c3-ab85-6c48c0c36ede\n",
      "----------------------------------------\n",
      "Id 5 of the DataLoader 1:  8fc4db7d-97c9-4432-9e2d-332e2e379773\n",
      "Id 5 of the DataLoader 2:  30eaeace-a4a4-4c6c-bcba-a358cf9d2646\n",
      "----------------------------------------\n",
      "Id 6 of the DataLoader 1:  c1e2ef84-4b0f-4985-ae38-d16d10646588\n",
      "Id 6 of the DataLoader 2:  c1e2ef84-4b0f-4985-ae38-d16d10646588\n",
      "----------------------------------------\n",
      "Id 7 of the DataLoader 1:  f4528b46-9648-4e21-be9f-74aca8a815ca\n",
      "Id 7 of the DataLoader 2:  f4528b46-9648-4e21-be9f-74aca8a815ca\n",
      "----------------------------------------\n",
      "Id 8 of the DataLoader 1:  63be02aa-908b-4437-aba9-e637eeab62c8\n",
      "Id 8 of the DataLoader 2:  63be02aa-908b-4437-aba9-e637eeab62c8\n",
      "----------------------------------------\n",
      "Id 9 of the DataLoader 1:  089de33a-437c-4d48-ac96-e29edf4c4a5c\n",
      "Id 9 of the DataLoader 2:  089de33a-437c-4d48-ac96-e29edf4c4a5c\n",
      "----------------------------------------\n"
     ]
    }
   ],
   "source": [
    "print(\"----------------------------------------\")\n",
    "for i in range(1,10):\n",
    "    print(\"Id\", i, \"of the DataLoader 1: \", dataloader.dataloader1.dataset.ids[i])\n",
    "    print(\"Id\", i, \"of the DataLoader 2: \", dataloader.dataloader2.dataset.ids[i])\n",
    "    print(\"----------------------------------------\")"
   ]
  },
  {
   "cell_type": "markdown",
   "metadata": {},
   "source": [
    "## Check first the datasets \n",
    "In MNIST, we have the images and the labels."
   ]
  },
  {
   "cell_type": "code",
   "execution_count": 36,
   "metadata": {},
   "outputs": [
    {
     "name": "stdout",
     "output_type": "stream",
     "text": [
      "0 4 1 9 2 3 1 4 3 5 "
     ]
    },
    {
     "data": {
      "image/png": "[encoded data removed]",
      "text/plain": [
       "<Figure size 432x288 with 10 Axes>"
      ]
     },
     "metadata": {
      "needs_background": "light"
     },
     "output_type": "display_data"
    }
   ],
   "source": [
    "# We need matplotlib library to plot the dataset\n",
    "import matplotlib.pyplot as plt\n",
    "\n",
    "# Plot the first 10 entries of the labels and the dataset\n",
    "figure = plt.figure()\n",
    "num_of_entries = 10\n",
    "for index in range(1, num_of_entries + 1):\n",
    "    plt.subplot(6, 10, index)\n",
    "    plt.axis('off')\n",
    "    plt.imshow(dataloader.dataloader1.dataset.data[index].numpy().squeeze(), cmap='gray_r')\n",
    "    print(dataloader.dataloader2.dataset[index][0], end=\" \")"
   ]
  },
  {
   "cell_type": "markdown",
   "metadata": {},
   "source": [
    "## So, lets implement PSI and Order the datasets accordingly"
   ]
  },
  {
   "cell_type": "code",
   "execution_count": 7,
   "metadata": {},
   "outputs": [],
   "source": [
    "# Compute private set intersections\n",
    "intersection1 = compute_psi(dataloader.dataloader1.dataset.get_ids(), dataloader.dataloader2.dataset.get_ids())\n",
    "intersection2 = compute_psi(dataloader.dataloader2.dataset.get_ids(), dataloader.dataloader1.dataset.get_ids())\n",
    "\n",
    "# Order data\n",
    "dataloader.drop_non_intersecting(intersection1, intersection2)\n",
    "dataloader.sort_by_ids()"
   ]
  },
  {
   "cell_type": "markdown",
   "metadata": {},
   "source": [
    "## Check again if the datasets are ordered"
   ]
  },
  {
   "cell_type": "code",
   "execution_count": 8,
   "metadata": {},
   "outputs": [
    {
     "name": "stdout",
     "output_type": "stream",
     "text": [
      "1 4 0 0 6 4 2 9 1 0 "
     ]
    },
    {
     "data": {
      "image/png": "[encoded data removed]",
      "text/plain": [
       "<Figure size 432x288 with 10 Axes>"
      ]
     },
     "metadata": {
      "needs_background": "light"
     },
     "output_type": "display_data"
    }
   ],
   "source": [
    "# We need matplotlib library to plot the dataset\n",
    "import matplotlib.pyplot as plt\n",
    "\n",
    "# Plot the first 10 entries of the labels and the dataset\n",
    "figure = plt.figure()\n",
    "num_of_entries = 10\n",
    "for index in range(1, num_of_entries + 1):\n",
    "    plt.subplot(6, 10, index)\n",
    "    plt.axis('off')\n",
    "    plt.imshow(dataloader.dataloader1.dataset.data[index].numpy().squeeze(), cmap='gray_r')\n",
    "    print(dataloader.dataloader2.dataset[index][0], end=\" \")"
   ]
  },
  {
   "cell_type": "code",
   "execution_count": 9,
   "metadata": {},
   "outputs": [
    {
     "name": "stdout",
     "output_type": "stream",
     "text": [
      "----------------------------------------\n",
      "Id 0 of the DataLoader 1:  0000c647-1520-46ef-ba38-c0108845a2e1\n",
      "Id 0 of the DataLoader 2:  0000c647-1520-46ef-ba38-c0108845a2e1\n",
      "----------------------------------------\n",
      "Id 1 of the DataLoader 1:  000259fd-f80a-4167-b451-8ec0e9ac42bc\n",
      "Id 1 of the DataLoader 2:  000259fd-f80a-4167-b451-8ec0e9ac42bc\n",
      "----------------------------------------\n",
      "Id 2 of the DataLoader 1:  00027ad7-ece2-4d05-861a-e7fb7cdabc58\n",
      "Id 2 of the DataLoader 2:  00027ad7-ece2-4d05-861a-e7fb7cdabc58\n",
      "----------------------------------------\n",
      "Id 3 of the DataLoader 1:  00028968-fd8b-4634-af19-c6cd05c42710\n",
      "Id 3 of the DataLoader 2:  00028968-fd8b-4634-af19-c6cd05c42710\n",
      "----------------------------------------\n",
      "Id 4 of the DataLoader 1:  0004c0df-5252-45e2-9c35-0437c086438b\n",
      "Id 4 of the DataLoader 2:  0004c0df-5252-45e2-9c35-0437c086438b\n",
      "----------------------------------------\n",
      "Id 5 of the DataLoader 1:  00058d30-ab69-44d9-a95b-d8ea22bbf9ba\n",
      "Id 5 of the DataLoader 2:  00058d30-ab69-44d9-a95b-d8ea22bbf9ba\n",
      "----------------------------------------\n",
      "Id 6 of the DataLoader 1:  00059558-4e98-4835-8af3-2b2a0d14e438\n",
      "Id 6 of the DataLoader 2:  00059558-4e98-4835-8af3-2b2a0d14e438\n",
      "----------------------------------------\n",
      "Id 7 of the DataLoader 1:  00068c68-e706-4ca6-8dfb-0acb723a1cb4\n",
      "Id 7 of the DataLoader 2:  00068c68-e706-4ca6-8dfb-0acb723a1cb4\n",
      "----------------------------------------\n",
      "Id 8 of the DataLoader 1:  00079c07-609f-411d-8bc2-a859783fdda4\n",
      "Id 8 of the DataLoader 2:  00079c07-609f-411d-8bc2-a859783fdda4\n",
      "----------------------------------------\n",
      "Id 9 of the DataLoader 1:  0007a5d4-30ff-475b-b2a8-a82193f4002e\n",
      "Id 9 of the DataLoader 2:  0007a5d4-30ff-475b-b2a8-a82193f4002e\n",
      "----------------------------------------\n"
     ]
    }
   ],
   "source": [
    "print(\"----------------------------------------\")\n",
    "for i in range(0,10):\n",
    "    print(\"Id\", i, \"of the DataLoader 1: \", dataloader.dataloader1.dataset.ids[i])\n",
    "    print(\"Id\", i, \"of the DataLoader 2: \", dataloader.dataloader2.dataset.ids[i])\n",
    "    print(\"----------------------------------------\")"
   ]
  },
  {
   "cell_type": "code",
   "execution_count": 5,
   "metadata": {},
   "outputs": [],
   "source": [
    "torch.manual_seed(0)\n",
    "\n",
    "# Define our model segments\n",
    "\n",
    "input_size = 784\n",
    "hidden_sizes = [128, 640]\n",
    "output_size = 10\n",
    "\n",
    "models = [\n",
    "    nn.Sequential(\n",
    "        nn.Linear(input_size, hidden_sizes[0]),\n",
    "        nn.ReLU(),\n",
    "        nn.Linear(hidden_sizes[0], hidden_sizes[1]),\n",
    "        nn.ReLU(),\n",
    "    ),\n",
    "    nn.Sequential(nn.Linear(hidden_sizes[1], output_size), nn.LogSoftmax(dim=1)),\n",
    "]\n",
    "\n",
    "# Create optimisers for each segment and link to them\n",
    "optimizers = [\n",
    "    optim.SGD(model.parameters(), lr=0.03,)\n",
    "    for model in models\n",
    "]\n",
    "\n",
    "# create some workers\n",
    "alice = sy.VirtualWorker(hook, id=\"alice\")\n",
    "bob = sy.VirtualWorker(hook, id=\"bob\")\n",
    "\n",
    "# Send Model Segments to model locations\n",
    "model_locations = [alice, bob]\n",
    "for model, location in zip(models, model_locations):\n",
    "    model.send(location)\n",
    "\n",
    "#Instantiate a SpliNN class with our distributed segments and their respective optimizers\n",
    "splitNN = SplitNN(models, optimizers)"
   ]
  },
  {
   "cell_type": "code",
   "execution_count": 6,
   "metadata": {},
   "outputs": [],
   "source": [
    "def train(x, target, splitNN):\n",
    "    \n",
    "    #1) Zero our grads\n",
    "    splitNN.zero_grads()\n",
    "    \n",
    "    #2) Make a prediction\n",
    "    pred = splitNN.forward(x)\n",
    "    \n",
    "    #3) Figure out how much we missed by\n",
    "    criterion = nn.NLLLoss()\n",
    "    loss = criterion(pred, target)\n",
    "    \n",
    "    #4) Backprop the loss on the end layer\n",
    "    loss.backward()\n",
    "    \n",
    "    #5) Feed Gradients backward through the nework\n",
    "    splitNN.backward()\n",
    "    \n",
    "    #6) Change the weights\n",
    "    splitNN.step()\n",
    "    \n",
    "    return loss, pred"
   ]
  },
  {
   "cell_type": "code",
   "execution_count": 7,
   "metadata": {},
   "outputs": [
    {
     "name": "stdout",
     "output_type": "stream",
     "text": [
      "Epoch 0 - Training loss: 1.150 - Accuracy: 73.038\n",
      "Epoch 1 - Training loss: 0.388 - Accuracy: 89.057\n",
      "Epoch 2 - Training loss: 0.320 - Accuracy: 90.893\n",
      "Epoch 3 - Training loss: 0.284 - Accuracy: 91.903\n",
      "Epoch 4 - Training loss: 0.257 - Accuracy: 92.654\n"
     ]
    }
   ],
   "source": [
    "for i in range(epochs):\n",
    "    running_loss = 0\n",
    "    correct_preds = 0\n",
    "    total_preds = 0\n",
    "\n",
    "    for (data, ids1), (labels, ids2) in dataloader:\n",
    "        # Train a model\n",
    "        data = data.send(models[0].location)\n",
    "        data = data.view(data.shape[0], -1)\n",
    "        labels = labels.send(models[-1].location)\n",
    "\n",
    "        # Call model\n",
    "        loss, preds = train(data, labels, splitNN)\n",
    "\n",
    "        # Collect statistics\n",
    "        running_loss += loss.get()\n",
    "        correct_preds += preds.max(1)[1].eq(labels).sum().get().item()\n",
    "        total_preds += preds.get().size(0)\n",
    "\n",
    "    print(f\"Epoch {i} - Training loss: {running_loss/len(dataloader):.3f} - Accuracy: {100*correct_preds/total_preds:.3f}\")"
   ]
  },
  {
   "cell_type": "code",
   "execution_count": 8,
   "metadata": {},
   "outputs": [
    {
     "name": "stdout",
     "output_type": "stream",
     "text": [
      "Labels pointing to:  (Wrapper)>[PointerTensor | me:65554157081 -> bob:2086398351]\n",
      "Images pointing to:  (Wrapper)>[PointerTensor | me:84378736321 -> alice:91963875082]\n"
     ]
    }
   ],
   "source": [
    "print(\"Labels pointing to: \", labels)\n",
    "print(\"Images pointing to: \", data)"
   ]
  },
  {
   "cell_type": "code",
   "execution_count": null,
   "metadata": {},
   "outputs": [],
   "source": []
  }
 ],
 "metadata": {
  "kernelspec": {
   "display_name": "Python 3",
   "language": "python",
   "name": "python3"
  },
  "language_info": {
   "codemirror_mode": {
    "name": "ipython",
    "version": 3
   },
   "file_extension": ".py",
   "mimetype": "text/x-python",
   "name": "python",
   "nbconvert_exporter": "python",
   "pygments_lexer": "ipython3",
   "version": "3.7.6"
  }
 },
 "nbformat": 4,
 "nbformat_minor": 4
}
